{
 "cells": [
  {
   "cell_type": "code",
   "execution_count": null,
   "id": "f55c56ad",
   "metadata": {
    "pycharm": {
     "is_executing": true,
     "name": "#%%\n"
    }
   },
   "outputs": [],
   "source": []
  },
  {
   "cell_type": "code",
   "execution_count": 2,
   "id": "cd3bc2e3",
   "metadata": {
    "pycharm": {
     "name": "#%%\n"
    }
   },
   "outputs": [],
   "source": [
    "import os\n",
    "import numpy as np\n",
    "from sklearn import preprocessing\n",
    "import pandas as pd\n",
    "from sklearn.model_selection import train_test_split\n",
    "from sklearn.metrics import mean_squared_error, mean_absolute_error\n",
    "from sklearn.tree import DecisionTreeRegressor\n",
    "from sklearn.ensemble import StackingRegressor\n",
    "from sklearn.metrics import make_scorer\n",
    "from sklearn.model_selection import GridSearchCV\n",
    "from xgboost import XGBRegressor\n",
    "from sklearn.ensemble import RandomForestRegressor\n",
    "from string import punctuation\n",
    "from tqdm.notebook import tqdm\n",
    "from collections import Counter\n",
    "import pickle"
   ]
  },
  {
   "cell_type": "markdown",
   "id": "eec59635",
   "metadata": {
    "pycharm": {
     "name": "#%% md\n"
    }
   },
   "source": [
    "### 读取数据"
   ]
  },
  {
   "cell_type": "code",
   "execution_count": 3,
   "id": "9f3e359a",
   "metadata": {
    "pycharm": {
     "name": "#%%\n"
    }
   },
   "outputs": [],
   "source": [
    "x = []\n",
    "y = []\n",
    "for root, dirs, files in os.walk('data/train/', topdown=True):\n",
    "    for file_name in files:\n",
    "        if 'xls' not in file_name and 'csv' not in file_name:\n",
    "            continue\n",
    "        if 'xls' in file_name:\n",
    "            columns = [\n",
    "                '草地', '城市', '林地', '裸地', '湿地', '水体', 'NTL_mean', 'dem', 'road',\n",
    "                'WI'\n",
    "            ]\n",
    "            data = pd.read_excel(os.path.join(\n",
    "                root, file_name)).dropna(subset=columns)\n",
    "            X = data[columns[:-1]]\n",
    "            Y = data[columns[-1:]]\n",
    "        else:\n",
    "            columns = [\n",
    "                '草地面积', '城市面积', '林地面积', '裸地面积', '湿地面积', '水体面积', 'NTL_mean',\n",
    "                'dem', 'road_near', 'WI'\n",
    "            ]\n",
    "            data = pd.read_csv(os.path.join(root,\n",
    "                                            file_name)).dropna(subset=columns)\n",
    "            X = data[columns[:-1]]\n",
    "            Y = data[columns[-1:]]\n",
    "        x.append(np.array(X))\n",
    "        y.append(np.array(Y))\n",
    "x = np.concatenate(x, axis=0)\n",
    "y = np.concatenate(y, axis=0)\n",
    "\n",
    "X = []\n",
    "Y = []\n",
    "for idx in range(len(x)):\n",
    "    try:\n",
    "        temp = np.array(x[idx], dtype='float32')\n",
    "        temp = np.array(y[idx], dtype='float32')\n",
    "        X.append(list(x[idx]))\n",
    "        Y.append(list(y[idx]))\n",
    "    except:\n",
    "        continue\n",
    "X = np.array(X, dtype='float32')\n",
    "Y = np.concatenate(Y, axis=0)"
   ]
  },
  {
   "cell_type": "code",
   "execution_count": 4,
   "id": "c6f47114",
   "metadata": {
    "pycharm": {
     "name": "#%%\n"
    }
   },
   "outputs": [
    {
     "data": {
      "text/plain": [
       "((1239, 9), (1239,))"
      ]
     },
     "execution_count": 4,
     "metadata": {},
     "output_type": "execute_result"
    }
   ],
   "source": [
    "X.shape, Y.shape"
   ]
  },
  {
   "cell_type": "markdown",
   "id": "a1799068",
   "metadata": {
    "pycharm": {
     "name": "#%% md\n"
    }
   },
   "source": [
    "### 计算评估指标"
   ]
  },
  {
   "cell_type": "code",
   "execution_count": 5,
   "id": "76f5c98c",
   "metadata": {
    "pycharm": {
     "name": "#%%\n"
    }
   },
   "outputs": [],
   "source": [
    "def compute_metrics(labels, preds):\n",
    "    # MSE\n",
    "    mse = mean_squared_error(labels, preds)\n",
    "    # MAE\n",
    "    mae = mean_absolute_error(labels, preds)\n",
    "    print(f'MSE: {mse}')\n",
    "    print(f'MAE: {mae}')"
   ]
  },
  {
   "cell_type": "markdown",
   "id": "d5f1533d",
   "metadata": {
    "pycharm": {
     "name": "#%% md\n"
    }
   },
   "source": [
    "### 寻找模型最优超参"
   ]
  },
  {
   "cell_type": "code",
   "execution_count": 6,
   "id": "27e8042f",
   "metadata": {
    "pycharm": {
     "name": "#%%\n"
    }
   },
   "outputs": [],
   "source": [
    "def get_best_hyperparam(train_x, train_y):\n",
    "    estimators = [('dt',\n",
    "                   DecisionTreeRegressor(criterion='poisson',\n",
    "                                         max_features='sqrt')),\n",
    "                  ('rf',\n",
    "                   RandomForestRegressor(criterion='poisson',\n",
    "                                         max_features='auto')),\n",
    "                  ('xgb', XGBRegressor(max_depth=10, n_estimators=20))]\n",
    "    model = StackingRegressor(estimators=estimators,\n",
    "                              final_estimator=RandomForestRegressor(\n",
    "                                  criterion='poisson', max_features='auto'))\n",
    "    model.fit(train_x, train_y)\n",
    "    return model"
   ]
  },
  {
   "cell_type": "markdown",
   "id": "2f0f9bc1",
   "metadata": {
    "pycharm": {
     "name": "#%% md\n"
    }
   },
   "source": [
    "### 训练和测试"
   ]
  },
  {
   "cell_type": "code",
   "execution_count": 7,
   "id": "2f4da04f",
   "metadata": {
    "pycharm": {
     "name": "#%%\n"
    }
   },
   "outputs": [],
   "source": [
    "# 训练和测试\n",
    "def train_and_eval(train_x, train_y, test_x, test_y, flag):\n",
    "    # 训练模型\n",
    "    clf = get_best_hyperparam(train_x, train_y)\n",
    "    if os.path.exists(flag + '_model.pkl'):\n",
    "        print('Model founded. Loading...')\n",
    "        with open(flag + '_model.pkl', 'rb') as f:\n",
    "            clf = pickle.load(f)\n",
    "    else:\n",
    "        print('No model founded. Creating...')\n",
    "        with open(flag + '_model.pkl', 'wb') as f:\n",
    "            pickle.dump(clf, f)\n",
    "    # 测试\n",
    "    pred = clf.predict(test_x)\n",
    "    compute_metrics(test_y, pred)\n",
    "    return clf"
   ]
  },
  {
   "cell_type": "markdown",
   "id": "907da3ee",
   "metadata": {
    "pycharm": {
     "name": "#%% md\n"
    }
   },
   "source": [
    "### 训练集验证集划分"
   ]
  },
  {
   "cell_type": "code",
   "execution_count": 8,
   "id": "b43cdf95",
   "metadata": {
    "pycharm": {
     "name": "#%%\n"
    }
   },
   "outputs": [],
   "source": [
    "train_x, test_x, train_y, test_y = train_test_split(X,\n",
    "                                                    Y,\n",
    "                                                    test_size=0.2,\n",
    "                                                    random_state=1)"
   ]
  },
  {
   "cell_type": "markdown",
   "id": "02b87fb8",
   "metadata": {
    "pycharm": {
     "name": "#%% md\n"
    }
   },
   "source": [
    "### 训练以及验证"
   ]
  },
  {
   "cell_type": "code",
   "execution_count": 9,
   "id": "7904f20b",
   "metadata": {
    "pycharm": {
     "name": "#%%\n"
    }
   },
   "outputs": [
    {
     "name": "stdout",
     "output_type": "stream",
     "text": [
      "Model founded. Loading...\n",
      "MSE: 0.5920501442085196\n",
      "MAE: 0.6007880883868988\n"
     ]
    }
   ],
   "source": [
    "model = train_and_eval(train_x, train_y, test_x, test_y, flag='Stacking')"
   ]
  },
  {
   "cell_type": "markdown",
   "id": "bcf7bd3f",
   "metadata": {
    "pycharm": {
     "name": "#%% md\n"
    }
   },
   "source": [
    "### 测试"
   ]
  },
  {
   "cell_type": "code",
   "execution_count": 10,
   "id": "efb41939",
   "metadata": {
    "pycharm": {
     "name": "#%%\n"
    }
   },
   "outputs": [],
   "source": [
    "test_X = []\n",
    "pred_dir = 'Stacking'\n",
    "os.makedirs(pred_dir, exist_ok=True)\n",
    "for root, dirs, files in os.walk('数据/2013-19/', topdown=True):\n",
    "    for file_name in files:\n",
    "        if 'xls' in file_name:\n",
    "            data = pd.read_excel(os.path.join(root, file_name))\n",
    "            columns = [\n",
    "                '草地面积', '城市面积', '林地面积', '裸地面积', '湿地面积', '水体面积', 'NTL_mean',\n",
    "                'dem'\n",
    "            ]\n",
    "            if 'road' in data:\n",
    "                columns.append('road')\n",
    "            else:\n",
    "                columns.append('road_near')\n",
    "            data = data.dropna(subset=columns)\n",
    "            test_X = np.array(data[columns])\n",
    "            pred = model.predict(test_X)\n",
    "            data['WI'] = pred\n",
    "            data.to_excel(os.path.join(pred_dir, file_name + '.pred.xlsx'),\n",
    "                          index=False,\n",
    "                          encoding='utf-8-sig')"
   ]
  }
 ],
 "metadata": {
  "kernelspec": {
   "display_name": "Python 3",
   "language": "python",
   "name": "python3"
  },
  "language_info": {
   "codemirror_mode": {
    "name": "ipython",
    "version": 3
   },
   "file_extension": ".py",
   "mimetype": "text/x-python",
   "name": "python",
   "nbconvert_exporter": "python",
   "pygments_lexer": "ipython3",
   "version": "3.7.0"
  }
 },
 "nbformat": 4,
 "nbformat_minor": 5
}
